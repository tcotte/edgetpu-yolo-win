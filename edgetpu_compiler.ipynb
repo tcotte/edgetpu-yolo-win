{
 "cells": [
  {
   "cell_type": "markdown",
   "metadata": {
    "id": "hRTa3Ee15WsJ"
   },
   "source": [
    "# Edge TPU model from Pytorch Yolov5 model\n",
    "\n",
    "The aim of this notebook is to create an Edge TPU model from a YOLOv5 model (https://github.com/ultralytics/yolov5). The utilisation of *edgetpu-compiler* package is very difficult on Windows, this is why we use a notebook on Google Colab (to use a Linux environment)."
   ]
  },
  {
   "cell_type": "markdown",
   "metadata": {
    "id": "ZmiHICezwXZq"
   },
   "source": [
    "## Compile for the Edge TPU\n"
   ]
  },
  {
   "cell_type": "markdown",
   "source": [
    "### Convert model to edgetpu tflite"
   ],
   "metadata": {
    "id": "CUlDoK4mQFwY"
   }
  },
  {
   "cell_type": "markdown",
   "source": [
    "### Retrieve the model from Wandb\n",
    "\n",
    "In this tutorial, we retrieve the model from **Weights and Biases** (because my model is saved here), but it is not an obligation and we can upload the model on Google Drive to use it in Colab."
   ],
   "metadata": {
    "collapsed": false
   }
  },
  {
   "cell_type": "code",
   "source": [
    "!pip install wandb"
   ],
   "metadata": {
    "id": "gjHwfIQMHbtj"
   },
   "execution_count": null,
   "outputs": []
  },
  {
   "cell_type": "code",
   "source": [
    "!git clone https://github.com/ultralytics/yolov5  # clone\n",
    "%cd yolov5\n",
    "!pip install -r requirements.txt  # install"
   ],
   "metadata": {
    "id": "LO5QJAaEH4_j"
   },
   "execution_count": null,
   "outputs": []
  },
  {
   "cell_type": "code",
   "source": [
    "%cd /content"
   ],
   "metadata": {
    "id": "H-Qgz0SlIcx5"
   },
   "execution_count": null,
   "outputs": []
  },
  {
   "cell_type": "code",
   "source": [
    "import wandb\n",
    "run = wandb.init()\n",
    "artifact = run.use_artifact('tcotte/Batonnets/run_w0a5400c_model:v0', type='model')\n",
    "artifact_dir = artifact.download()"
   ],
   "metadata": {
    "id": "Mz2qaChcHBAI"
   },
   "execution_count": null,
   "outputs": []
  },
  {
   "cell_type": "markdown",
   "source": [
    "### Export the model\n",
    "\n",
    "Export in Edge TPU format from \".pt\" model. Precise the *model_path* and the size of the picture (*imgsz*). Don't choose a picture size too big because the process will not stand on the **edgetpu** if the size is too important  and it will run on **CPU**. In fact, it is not possible map the large size operations especially transpose and reshape operations. You can read something like this in the log file if the operation is too heavy for the TPU :\n",
    "`TRANSPOSE 1 Operation is otherwise supported, but not mapped due to some unspecified limitation`\n",
    "\n",
    "For example, I have chosen a picture size of 448*448 for a **yolov5_n** model"
   ],
   "metadata": {
    "collapsed": false
   }
  },
  {
   "cell_type": "code",
   "source": [
    "model_path = \"/content/artifacts/run_w0a5400c_model:v0/best.pt\"\n",
    "\n",
    "!python yolov5/export.py \\\n",
    "--weights {model_path} \\\n",
    "--imgsz 448 448 \\\n",
    "--include edgetpu"
   ],
   "metadata": {
    "id": "ZGD2a4Q0IW1R"
   },
   "execution_count": null,
   "outputs": []
  },
  {
   "cell_type": "markdown",
   "source": [
    "#### Import model in local"
   ],
   "metadata": {
    "collapsed": false
   }
  },
  {
   "cell_type": "code",
   "source": [
    "from google.colab import files\n",
    "\n",
    "files.download('/content/artifacts/run_w0a5400c_model:v0/best-int8_edgetpu.tflite')"
   ],
   "metadata": {
    "id": "Xj0UB-MQNn_T"
   },
   "execution_count": null,
   "outputs": []
  },
  {
   "cell_type": "markdown",
   "source": [
    "### Recompile model\n",
    "\n",
    "If you have not the same versions of *Edge TPU runtime* on your computer (see versions https://coral.ai/software/#edgetpu-runtime) and on Colab, you will have an issue using the model on your computer.\n",
    "In documentation it is written : \"A model compiled for the Edge TPU must be executed using a corresponding version of the Edge TPU runtime. If you try to run a recently compiled model on an older runtime, then you'll see an error such as this:\"\n",
    "```Failed precondition: Package requires runtime version ({model_version}), which is newer than this runtime version ({edgetpu_compiler_version}).```\n",
    "(link https://coral.ai/docs/edgetpu/compiler/#compiler-and-runtime-versions)\n",
    "\n",
    "To solve this issue re-compile your model to make it compatible with the older runtime version by including the --min_runtime_version flag when you run edgetpu_compiler"
   ],
   "metadata": {
    "id": "w99wrSwOPa2d"
   }
  },
  {
   "cell_type": "markdown",
   "metadata": {
    "id": "DhOzAdzF3Dyk"
   },
   "source": [
    "First download the [Edge TPU Compiler](https://coral.ai/docs/edgetpu/compiler/):"
   ]
  },
  {
   "cell_type": "code",
   "execution_count": null,
   "metadata": {
    "id": "p6ZpWgrk21Ad"
   },
   "outputs": [],
   "source": [
    "! curl https://packages.cloud.google.com/apt/doc/apt-key.gpg | sudo apt-key add -\n",
    "\n",
    "! echo \"deb https://packages.cloud.google.com/apt coral-edgetpu-stable main\" | sudo tee /etc/apt/sources.list.d/coral-edgetpu.list\n",
    "\n",
    "! sudo apt-get update\n",
    "\n",
    "! sudo apt-get install edgetpu-compiler\t"
   ]
  },
  {
   "cell_type": "markdown",
   "metadata": {
    "id": "mtPcYiER3Ymp"
   },
   "source": [
    "Then re-compile the model to avoid the error :"
   ]
  },
  {
   "cell_type": "code",
   "execution_count": null,
   "metadata": {
    "id": "joxrIB0I3cdi"
   },
   "outputs": [],
   "source": [
    "!edgetpu_compiler --min_runtime_version 13 /content/artifacts/run_w0a5400c_model:v0/best-int8.tflite"
   ]
  },
  {
   "cell_type": "markdown",
   "source": [
    "I have version 13 on my computer, it seems that the version 14 does not work well on Windows."
   ],
   "metadata": {
    "collapsed": false
   }
  },
  {
   "cell_type": "markdown",
   "metadata": {
    "id": "7R8JMQc1MMm5"
   },
   "source": [
    "That's it.\n",
    "\n",
    "The compiled model uses the same filename but with \"_edgetpu\" appended at the end.\n",
    "You can now run the model on your Coral in local device with acceleration on the Edge TPU."
   ]
  },
  {
   "cell_type": "code",
   "execution_count": null,
   "outputs": [],
   "source": [
    "from google.colab import files\n",
    "\n",
    "files.download('/content/best-int8_edgetpu.tflite')"
   ],
   "metadata": {
    "collapsed": false,
    "pycharm": {
     "name": "#%%\n"
    }
   }
  },
  {
   "cell_type": "markdown",
   "metadata": {
    "id": "RwywT4ZpQjLf"
   },
   "source": [
    "\n",
    "\n",
    "To get started, try using **edgetpu-yolo/detect.py** code :\n",
    "\n",
    "```\n",
    "python detect.py \\\n",
    "  --model {model_name}edgetpu.tflite \\\n",
    "  --input {photo_path}.jpg\n",
    "```"
   ]
  }
 ],
 "metadata": {
  "accelerator": "GPU",
  "colab": {
   "collapsed_sections": [
    "license"
   ],
   "private_outputs": true,
   "provenance": []
  },
  "kernelspec": {
   "display_name": "Python 3",
   "name": "python3"
  }
 },
 "nbformat": 4,
 "nbformat_minor": 0
}